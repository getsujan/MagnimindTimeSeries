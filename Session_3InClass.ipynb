{
 "cells": [
  {
   "cell_type": "markdown",
   "id": "987bf233-243b-43ff-8fbd-a6681c76cebb",
   "metadata": {},
   "source": [
    "### 3.1 Zero-mean Model or White Noise\n",
    "A time series is white noise if the variables are independent and identically distributed with a mean of zero.\n",
    "\n",
    "Once predictions have been made by a time series forecast model, they can be collected and analyzed. The series of forecast errors should ideally be white noise. When forecast errors are white noise, it means that all of the signal information in the time series has been harnessed by the model in order to make predictions.\n",
    "\n",
    "$y(t) = signal(t) + noise(t)$"
   ]
  },
  {
   "cell_type": "markdown",
   "id": "a45afb48-76c7-4e2d-a8a7-bb91700fa3a4",
   "metadata": {},
   "source": [
    "- Does your series have a non-zero mean?\n",
    "- Does the variance chnage over time?\n",
    "- Do values correlate with lag values?"
   ]
  },
  {
   "cell_type": "code",
   "execution_count": null,
   "id": "093d42bf-1e5a-4fc5-b749-ec6ba86e71dc",
   "metadata": {},
   "outputs": [],
   "source": []
  },
  {
   "cell_type": "markdown",
   "id": "986837b5-0af8-41bd-a474-3e1adf740687",
   "metadata": {},
   "source": [
    "### 3.2 Random Walk\n",
    "A random walk is different from a list of random numbers because the next value in the sequence is a modification of the previous value in the sequence.\n",
    "\n",
    "$$y(t)=B_0+B_1\\times y(t-1) + e(t)$$\n",
    "\n",
    "$e(t)$ is a random noise or increment at time t. It represents the random fluctuation or innovation added to the last observed value to obtain the next value in the time series.\n",
    "\n",
    "Given the way that the random walk is constructed, we would expect a strong autocorrelation with the previous observation and a linear fall off from there with previous lag values."
   ]
  },
  {
   "cell_type": "code",
   "execution_count": null,
   "id": "a2518f0f-b030-41af-b332-31107fae4b5e",
   "metadata": {},
   "outputs": [],
   "source": []
  },
  {
   "cell_type": "markdown",
   "id": "48feb478-5b73-47d3-9515-bed988970186",
   "metadata": {},
   "source": [
    "### 3.3 Random Walk and Stationarity\n",
    "- a stationary time series has values that are not a function of time.\n",
    "- the current observation in a random walk is a ramndom step from the previous one\n",
    "- then is random walk not stationary?"
   ]
  },
  {
   "cell_type": "code",
   "execution_count": null,
   "id": "74c603cc-42b5-45eb-964c-27d9599dcba4",
   "metadata": {},
   "outputs": [],
   "source": []
  }
 ],
 "metadata": {
  "kernelspec": {
   "display_name": "Python 3 (ipykernel)",
   "language": "python",
   "name": "python3"
  },
  "language_info": {
   "codemirror_mode": {
    "name": "ipython",
    "version": 3
   },
   "file_extension": ".py",
   "mimetype": "text/x-python",
   "name": "python",
   "nbconvert_exporter": "python",
   "pygments_lexer": "ipython3",
   "version": "3.11.4"
  }
 },
 "nbformat": 4,
 "nbformat_minor": 5
}
