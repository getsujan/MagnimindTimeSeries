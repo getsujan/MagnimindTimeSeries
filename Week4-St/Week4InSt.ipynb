{
 "cells": [
  {
   "cell_type": "markdown",
   "id": "f08da03f-878d-4970-ac34-8a75999d3c35",
   "metadata": {},
   "source": [
    "Sources:\n",
    "\n",
    "Introduction to Time Series Forecasting with Python by Jason Brownlee\n",
    "\n",
    "Time Series Forecasting in Python by Marco Peixerio\n",
    "\n",
    "Modern Time Series Forecasting with Python by Joseph Manu\n",
    "\n",
    "Youtube: ritvikmath"
   ]
  },
  {
   "cell_type": "markdown",
   "id": "1ea88618-2023-4db3-9626-02054db58ac4",
   "metadata": {
    "tags": []
   },
   "source": [
    "### Objectives of Time Series Analysis\n",
    "- Decompose a time series\n",
    "- Develop mathematical models\n",
    "- Uses of models\n",
    " - Understand observed behaviour\n",
    " - Predict series for future points in time"
   ]
  },
  {
   "cell_type": "code",
   "execution_count": null,
   "id": "1414406f-0670-47ef-a579-9a9eb89cec6f",
   "metadata": {},
   "outputs": [],
   "source": []
  },
  {
   "cell_type": "markdown",
   "id": "312a4b09-1ad4-40ff-a882-d0fb26fdb969",
   "metadata": {},
   "source": [
    "## 2.1 Trend\n",
    "\n",
    "When a time series exhibits an upward or downward movement in the long run, it is said to have a general trend.\n",
    "\n",
    "A time series is considered non-stationary when it exhibits a discernible trend, which can be analyzed and modeled. Once this trend is accurately represented, it can be eliminated from the time series data, a process referred to as detrending. When a dataset either lacks a trend initially or has had its trend successfully removed, it is described as being in a trend-stationary state."
   ]
  },
  {
   "cell_type": "code",
   "execution_count": null,
   "id": "1a46601f-5cc5-4e53-be01-d22f469868d5",
   "metadata": {},
   "outputs": [],
   "source": []
  },
  {
   "cell_type": "markdown",
   "id": "df60925b-cec6-4773-9515-71730a0efbe7",
   "metadata": {},
   "source": [
    "### Zoomed-in Version of the Data Between 1980-81"
   ]
  },
  {
   "cell_type": "code",
   "execution_count": null,
   "id": "5914380a-7897-4006-9840-608b40f090dc",
   "metadata": {},
   "outputs": [],
   "source": []
  },
  {
   "cell_type": "markdown",
   "id": "c4ecfe98-e592-403f-929a-31307692c725",
   "metadata": {
    "tags": []
   },
   "source": [
    "### Fitting The Trend Line\n",
    "\n",
    "Fit a linear regression model using the data and \n",
    "print the coefficient and the intercept\n",
    "\n"
   ]
  },
  {
   "cell_type": "code",
   "execution_count": null,
   "id": "cf2ffa09-27ad-42f6-88e2-a7962e63050d",
   "metadata": {},
   "outputs": [],
   "source": []
  },
  {
   "cell_type": "markdown",
   "id": "f8533b52-7838-427a-b06f-578ea45c5019",
   "metadata": {},
   "source": [
    "### Calculating the Residuals\n",
    "\n",
    "Calculate the residuals by subtracting the predictions from the data\n",
    "\n",
    "Plot the residuals\n"
   ]
  },
  {
   "cell_type": "code",
   "execution_count": null,
   "id": "17b06a69-bc3a-48c7-be2d-efa6e7b6c9ea",
   "metadata": {},
   "outputs": [],
   "source": []
  },
  {
   "cell_type": "code",
   "execution_count": null,
   "id": "cc19e711-10ab-40c6-bece-da8abb7a9112",
   "metadata": {},
   "outputs": [],
   "source": []
  },
  {
   "cell_type": "markdown",
   "id": "4749d183-7088-426f-9a53-bc96a87425c2",
   "metadata": {},
   "source": [
    "### Seasonality\n",
    "\n",
    "Seasonality is manifested as periodic deviations such as those seen in the de-trended observations of CO2 emissions.\n",
    "\n",
    "Constant Mean and Variance: In a stationary time series (i.e., a time series with no trend or seasonality), the mean and variance of the residuals should be approximately constant over time. If the mean and variance exhibit clear patterns or fluctuations, it suggests the presence of seasonality.\n",
    "\n",
    "Diagnostic Plots: Plotting the mean and standard deviation of residuals over time can reveal any systematic changes or patterns. Specifically, if you observe regular, repeating fluctuations in these plots, it's an indication that seasonality might be present in the data. The mean plot can help detect any shifts in the average value, while the standard deviation plot can show changes in the dispersion of data points.\n",
    "\n",
    "A practical technique of determining seasonality is through exploratory data analysis through the following plots:\n",
    "\n",
    "- Run sequence plot\n",
    "- Seasonal sub series plot\n",
    "- Multiple box plots\n"
   ]
  },
  {
   "cell_type": "code",
   "execution_count": null,
   "id": "2e21feaf-faf2-43f5-8a12-0d6aa231bd38",
   "metadata": {},
   "outputs": [],
   "source": []
  },
  {
   "cell_type": "markdown",
   "id": "0c9ef305-70fa-4506-8531-16debb14989c",
   "metadata": {},
   "source": [
    "### Stationarity"
   ]
  },
  {
   "cell_type": "markdown",
   "id": "ca4e9f2a-b99a-4b8e-9530-033914d1f3ac",
   "metadata": {},
   "source": [
    "There are many methods to check whether a time series (direct observations, residuals, otherwise) is stationary or non-stationary.\n",
    "\n",
    " Look at Plots: You can review a time series plot of your data and visually check if there are any obvious trends or seasonality.\n",
    "\n",
    " Summary Statistics: You can review the summary statistics for your data for seasons or random partitions and check for obvious or significant differences.\n",
    "\n",
    " Statistical Tests: You can use statistical tests to check if the expectations of stationarity are met or have been violated."
   ]
  },
  {
   "cell_type": "code",
   "execution_count": null,
   "id": "e989e5f8-83f3-407b-b273-ea6723e57c69",
   "metadata": {},
   "outputs": [],
   "source": []
  }
 ],
 "metadata": {
  "kernelspec": {
   "display_name": "Python 3 (ipykernel)",
   "language": "python",
   "name": "python3"
  },
  "language_info": {
   "codemirror_mode": {
    "name": "ipython",
    "version": 3
   },
   "file_extension": ".py",
   "mimetype": "text/x-python",
   "name": "python",
   "nbconvert_exporter": "python",
   "pygments_lexer": "ipython3",
   "version": "3.11.4"
  }
 },
 "nbformat": 4,
 "nbformat_minor": 5
}
